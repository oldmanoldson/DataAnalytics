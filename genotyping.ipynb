{
 "cells": [
  {
   "cell_type": "code",
   "execution_count": 1,
   "metadata": {},
   "outputs": [],
   "source": [
    "import numpy as np\n",
    "import pandas as pd"
   ]
  },
  {
   "cell_type": "code",
   "execution_count": 2,
   "metadata": {},
   "outputs": [],
   "source": [
    "SNP_frequencies = np.array([[0.2,0.3,0.5],[0.1,0.4,0.5]])"
   ]
  },
  {
   "cell_type": "code",
   "execution_count": 3,
   "metadata": {},
   "outputs": [],
   "source": [
    "#Q1 Write a function individual_genotype=generate_individual(SNP_frequencies) that returns an individual \n",
    "#genotype given the SNP frequencies. To do this, generate a random number and determine whether it is greater \n",
    "#than the largest frequency (at which point the individual is Homozygous for Allele B), smaller than the smallest \n",
    "#frequency (Homozygous for Allele A) or neither (Heterozygous). Repeat this for the second SNP to generate the \n",
    "#individual genotype."
   ]
  },
  {
   "cell_type": "code",
   "execution_count": 4,
   "metadata": {},
   "outputs": [],
   "source": [
    "def generate_individual(SNP_frequencies=SNP_frequencies):\n",
    "    x = np.random.rand()\n",
    "    if x > max(SNP_frequencies[0]):\n",
    "        y = 'BB'\n",
    "    elif x < min(SNP_frequencies[0]):\n",
    "        y = 'AA'\n",
    "    else:\n",
    "        y = 'AB'\n",
    "    \n",
    "    n = np.random.rand()    \n",
    "    if n > max(SNP_frequencies[1]):\n",
    "        z = 'BB'\n",
    "    elif n < min(SNP_frequencies[1]):\n",
    "        z = 'AA'\n",
    "    else:\n",
    "        z = 'AB'\n",
    "        \n",
    "    genotype = [y,z]\n",
    "    \n",
    "    return genotype\n",
    "            "
   ]
  },
  {
   "cell_type": "code",
   "execution_count": 5,
   "metadata": {},
   "outputs": [
    {
     "data": {
      "text/plain": [
       "['AB', 'BB']"
      ]
     },
     "execution_count": 5,
     "metadata": {},
     "output_type": "execute_result"
    }
   ],
   "source": [
    "generate_individual()"
   ]
  },
  {
   "cell_type": "code",
   "execution_count": 6,
   "metadata": {},
   "outputs": [],
   "source": [
    "#Q2 Generate an array of 10,000 individual genotypes by looping over the generate_individual function."
   ]
  },
  {
   "cell_type": "code",
   "execution_count": 7,
   "metadata": {},
   "outputs": [],
   "source": [
    "pop = []\n",
    "for i in range(10000):\n",
    "    pop.append(generate_individual())"
   ]
  },
  {
   "cell_type": "code",
   "execution_count": 8,
   "metadata": {},
   "outputs": [],
   "source": [
    "#Q3 Determine the unique genotypes in your population"
   ]
  },
  {
   "cell_type": "code",
   "execution_count": 9,
   "metadata": {},
   "outputs": [],
   "source": [
    "def unique(pop=pop):\n",
    "    unique_list = []\n",
    "    for x in pop:\n",
    "        if x not in unique_list:\n",
    "            unique_list.append(x)\n",
    "    return unique_list"
   ]
  },
  {
   "cell_type": "code",
   "execution_count": 10,
   "metadata": {},
   "outputs": [],
   "source": [
    "ul = unique()"
   ]
  },
  {
   "cell_type": "code",
   "execution_count": 11,
   "metadata": {},
   "outputs": [],
   "source": [
    "#Q4 Count the frequency of each genotype and #Q5 determine the most common genotype"
   ]
  },
  {
   "cell_type": "code",
   "execution_count": 12,
   "metadata": {},
   "outputs": [
    {
     "name": "stdout",
     "output_type": "stream",
     "text": [
      "['BB', 'BB']\n",
      "2485\n",
      "['AB', 'BB']\n",
      "1499\n",
      "['AB', 'AB']\n",
      "1202\n",
      "['BB', 'AB']\n",
      "1962\n",
      "['AB', 'AA']\n",
      "319\n",
      "['AA', 'BB']\n",
      "1022\n",
      "['BB', 'AA']\n",
      "488\n",
      "['AA', 'AB']\n",
      "823\n",
      "['AA', 'AA']\n",
      "200\n"
     ]
    }
   ],
   "source": [
    "for i in ul:\n",
    "    print(i)\n",
    "    print(pop.count(i))"
   ]
  },
  {
   "cell_type": "code",
   "execution_count": null,
   "metadata": {},
   "outputs": [],
   "source": []
  }
 ],
 "metadata": {
  "kernelspec": {
   "display_name": "Python 3",
   "language": "python",
   "name": "python3"
  },
  "language_info": {
   "codemirror_mode": {
    "name": "ipython",
    "version": 3
   },
   "file_extension": ".py",
   "mimetype": "text/x-python",
   "name": "python",
   "nbconvert_exporter": "python",
   "pygments_lexer": "ipython3",
   "version": "3.7.3"
  }
 },
 "nbformat": 4,
 "nbformat_minor": 2
}

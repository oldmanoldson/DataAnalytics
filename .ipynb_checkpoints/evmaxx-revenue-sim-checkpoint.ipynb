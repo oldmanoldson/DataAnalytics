{
 "cells": [
  {
   "cell_type": "markdown",
   "metadata": {},
   "source": [
    "# EvMaxx Financial Model/Simulation"
   ]
  },
  {
   "cell_type": "code",
   "execution_count": null,
   "metadata": {},
   "outputs": [],
   "source": [
    "# import libraries\n",
    "import numpy as np\n",
    "import pandas as pd\n",
    "import seaborn as sns\n",
    "import matplotlib.pyplot as plt\n",
    "%matplotlib inline\n",
    "\n",
    "import random\n",
    "import math\n",
    "\n",
    "PI = 3.1415926\n",
    "e = 2.71828"
   ]
  },
  {
   "cell_type": "markdown",
   "metadata": {},
   "source": [
    "## Define monte-carlo simulation functions"
   ]
  },
  {
   "cell_type": "code",
   "execution_count": null,
   "metadata": {},
   "outputs": [],
   "source": [
    "# define random number generator function\n",
    "def get_rand_number(min_value, max_value):\n",
    "    range = max_value-min_value\n",
    "    choice = random.uniform(0,1)\n",
    "    \n",
    "    return min_value + range*choice\n",
    "\n",
    "# define integrand function\n",
    "def f_of_x(x):\n",
    "    return (e**(-1*x))/(1+(x-1)**2)"
   ]
  },
  {
   "cell_type": "markdown",
   "metadata": {},
   "source": [
    "## Define Crude Monte Carlo function"
   ]
  },
  {
   "cell_type": "code",
   "execution_count": null,
   "metadata": {},
   "outputs": [],
   "source": [
    "def crude_monte_carlo(num_samples=10000):\n",
    "    \"\"\"\n",
    "    This function performs the Crude Monte Carlo for our\n",
    "    specific function f(x) on the range x=0 to x=5.\n",
    "    Notice that this bound is sufficient because f(x)\n",
    "    approaches 0 at around PI.\n",
    "    Args:\n",
    "    - num_samples (float) : number of samples\n",
    "    Return:\n",
    "    - Crude Monte Carlo estimation (float)\n",
    "    \n",
    "    \"\"\"\n",
    "    lower_bound = 0\n",
    "    upper_bound = 5\n",
    "    \n",
    "    sum_of_samples = 0\n",
    "    \n",
    "    for i in range(num_samples):\n",
    "        x = get_rand_number(lower_bound, upper_bound)\n",
    "        sum_of_samples += f_of_x(x)\n",
    "        \n",
    "    return (upper_bound - lower_bound) * float(sum_of_samples/num_samples)"
   ]
  },
  {
   "cell_type": "code",
   "execution_count": null,
   "metadata": {},
   "outputs": [],
   "source": [
    "crude_monte_carlo()"
   ]
  },
  {
   "cell_type": "markdown",
   "metadata": {},
   "source": [
    "## Determine Variance of Estimation"
   ]
  },
  {
   "cell_type": "code",
   "execution_count": null,
   "metadata": {},
   "outputs": [],
   "source": [
    "def get_crude_MC_variance(num_samples=10000):\n",
    "    \"\"\"\n",
    "    This function returns the variance fo the Crude Monte Carlo.\n",
    "    Note that the inputed number of samples does not neccissarily\n",
    "    need to correspond to number of samples used in the Monte\n",
    "    Carlo Simulation.\n",
    "    Args:\n",
    "    - num_samples (int)\n",
    "    Return:\n",
    "    - Variance for Crude Monte Carlo approximation of f(x) (float)\n",
    "    \"\"\"\n",
    "    int_max = 5 # this is the max of our integration range\n",
    "    \n",
    "    # get the average of squares\n",
    "    running_total = 0\n",
    "    for i in range(num_samples):\n",
    "        x = get_rand_number(0, int_max)\n",
    "        running_total += f_of_x(x)**2\n",
    "    sum_of_sqs = running_total*int_max / num_samples\n",
    "    \n",
    "    # get square of average\n",
    "    running_total = 0\n",
    "    for i in range(num_samples):\n",
    "        x = get_rand_number(0, int_max)\n",
    "        running_total = f_of_x(x)\n",
    "    sq_ave = (int_max*running_total/num_samples)**2\n",
    "    \n",
    "    return sum_of_sqs - sq_ave"
   ]
  },
  {
   "cell_type": "code",
   "execution_count": null,
   "metadata": {},
   "outputs": [],
   "source": [
    "get_crude_MC_variance()"
   ]
  },
  {
   "cell_type": "markdown",
   "metadata": {},
   "source": [
    "## Find Distribution"
   ]
  },
  {
   "cell_type": "code",
   "execution_count": null,
   "metadata": {},
   "outputs": [],
   "source": [
    "mc_dict = {'MC Value': np.zeros(1000)}\n",
    "mcdf = pd.DataFrame.from_dict(mc_dict)\n",
    "display(mcdf.head())"
   ]
  },
  {
   "cell_type": "code",
   "execution_count": null,
   "metadata": {},
   "outputs": [],
   "source": [
    "for i in range(len(mcdf)):\n",
    "    mcdf['MC Value'][i] = crude_monte_carlo()\n",
    "\n",
    "display(mcdf.head())"
   ]
  },
  {
   "cell_type": "code",
   "execution_count": null,
   "metadata": {},
   "outputs": [],
   "source": [
    "## Data Visualization\n",
    "# set the size of the figure\n",
    "sns.set(rc = {'figure.figsize':(11.7, 8.27)})\n",
    "\n",
    "# histogram showing the distribution of the target (spend) values\n",
    "sns.distplot(mcdf['MC Value'], bins = 50)\n",
    "plt.show()"
   ]
  },
  {
   "cell_type": "markdown",
   "metadata": {},
   "source": [
    "## Extend Monte Carlo Simulation Results"
   ]
  },
  {
   "cell_type": "code",
   "execution_count": null,
   "metadata": {},
   "outputs": [],
   "source": [
    "# put into dataframe\n",
    "rev_dict = {'AppRevenue': np.zeros(10000), 'OpenApp': np.zeros(10000), 'OpenAd': np.zeros(10000),\n",
    "            'AdRevenue': np.zeros(10000), 'ReferralFee': np.zeros(10000)}\n",
    "revdf = pd.DataFrame.from_dict(rev_dict)\n",
    "\n",
    "for i in range(len(revdf)):    \n",
    "    revdf['OpenApp'][i] = np.random.binomial(1, crude_monte_carlo(), 1)\n",
    "    \n",
    "    if revdf['OpenApp'][i] == 1:\n",
    "        revdf['AppRevenue'][i] = abs(30*np.random.random())*0.10\n",
    "        revdf['ReferralFee'][i] = 0.25\n",
    "    else:\n",
    "        revdf['AppRevenue'][i] = 0\n",
    "        revdf['ReferralFee'][i] = 0\n",
    "        \n",
    "    revdf['OpenAd'][i] = np.random.binomial(1, crude_monte_carlo()/100, 1)\n",
    "    \n",
    "    if revdf['OpenAd'][i] == 1:\n",
    "        revdf['AdRevenue'][i] = 0.10\n",
    "    else:\n",
    "        revdf['AdRevenue'][i] = 0"
   ]
  },
  {
   "cell_type": "code",
   "execution_count": null,
   "metadata": {},
   "outputs": [],
   "source": [
    "revdf.head()"
   ]
  },
  {
   "cell_type": "code",
   "execution_count": null,
   "metadata": {},
   "outputs": [],
   "source": [
    "revdf2 = revdf[revdf.OpenApp == 1]\n",
    "revdf2.head()"
   ]
  },
  {
   "cell_type": "code",
   "execution_count": null,
   "metadata": {},
   "outputs": [],
   "source": [
    "revdf2['Revenue'] = revdf2['AppRevenue'] + revdf2['AddRevenue'] + revdf2['ReferralFee']"
   ]
  },
  {
   "cell_type": "code",
   "execution_count": null,
   "metadata": {},
   "outputs": [],
   "source": [
    "revdf2['Revenue'].mean()"
   ]
  }
 ],
 "metadata": {
  "kernelspec": {
   "display_name": "Python 3",
   "language": "python",
   "name": "python3"
  },
  "language_info": {
   "codemirror_mode": {
    "name": "ipython",
    "version": 3
   },
   "file_extension": ".py",
   "mimetype": "text/x-python",
   "name": "python",
   "nbconvert_exporter": "python",
   "pygments_lexer": "ipython3",
   "version": "3.7.3"
  }
 },
 "nbformat": 4,
 "nbformat_minor": 2
}

{
 "cells": [
  {
   "cell_type": "markdown",
   "metadata": {},
   "source": [
    "# Homework 2, Question C:  Logistic Regression - Product Return\n",
    "### Sean Olson"
   ]
  },
  {
   "cell_type": "code",
   "execution_count": 1,
   "metadata": {},
   "outputs": [],
   "source": [
    "## Import Libraries\n",
    "# import standard libraries\n",
    "import numpy as np\n",
    "import matplotlib.pyplot as plt\n",
    "import pandas as pd\n",
    "import statsmodels.api as sm\n",
    "from scipy import stats\n",
    "from scipy.stats import skew\n",
    "\n",
    "%matplotlib inline\n",
    "\n",
    "# import statistical visualization library\n",
    "import seaborn as sns\n",
    "\n",
    "# import supervised learning libraries\n",
    "from sklearn.model_selection import train_test_split\n",
    "from imblearn.over_sampling import SMOTE\n",
    "from sklearn.feature_selection import RFE, RFECV\n",
    "\n",
    "# import regression libraries\n",
    "from sklearn.linear_model import LinearRegression, Lasso, LogisticRegression\n",
    "from sklearn.metrics import mean_squared_error, r2_score, mean_absolute_error, confusion_matrix, classification_report, roc_auc_score, roc_curve\n",
    "\n",
    "# suppress warnings\n",
    "pd.options.mode.chained_assignment = None\n",
    "from warnings import simplefilter\n",
    "simplefilter(action='ignore', category=FutureWarning)"
   ]
  },
  {
   "cell_type": "code",
   "execution_count": 2,
   "metadata": {},
   "outputs": [
    {
     "name": "stdout",
     "output_type": "stream",
     "text": [
      "   custid  month   purchase channel_purchase  spend  items  discount_availed  \\\n",
      "0       1       1         0              NaN    NaN    NaN               NaN   \n",
      "1       1       2         1            Store  347.9    6.0               0.0   \n",
      "2       1       3         1              Web    6.0    1.0               0.0   \n",
      "3       1       4         0              NaN    NaN    NaN               NaN   \n",
      "4       1       5         0              NaN    NaN    NaN               NaN   \n",
      "\n",
      "   product_return  month_elapsed  catalog_sent  coupon_sent  items_todate  \\\n",
      "0             NaN              0             0            0             0   \n",
      "1             1.0              1             1            0             0   \n",
      "2             0.0              0             1            0             6   \n",
      "3             NaN              0             1            0             7   \n",
      "4             NaN              1             1            1             7   \n",
      "\n",
      "   spend_todate  \n",
      "0           0.0  \n",
      "1           0.0  \n",
      "2         347.9  \n",
      "3         353.9  \n",
      "4         353.9  \n"
     ]
    }
   ],
   "source": [
    "# Load data into pandas dataframe\n",
    "\n",
    "data = pd.read_excel('/Users/seanolson/OneDrive/Documents/UNC Chapel Hill/Kenan-Flagler Business School/KFBS Courses/MBA706 Data Analytics/Week 2/Customer+Transaction+Data.xlsx', sheet_name = 'Data')\n",
    "print(data.head())"
   ]
  },
  {
   "cell_type": "code",
   "execution_count": 3,
   "metadata": {},
   "outputs": [
    {
     "name": "stdout",
     "output_type": "stream",
     "text": [
      "Check Nulls - Main Dataframe\n",
      "----------------------------\n",
      "custid                 0\n",
      "month                  0\n",
      "purchase               0\n",
      "channel_purchase    1294\n",
      "spend               1294\n",
      "items               1294\n",
      "discount_availed    1294\n",
      "product_return      1294\n",
      "month_elapsed          0\n",
      "catalog_sent           0\n",
      "coupon_sent            0\n",
      "items_todate           0\n",
      "spend_todate           0\n",
      "dtype: int64\n"
     ]
    }
   ],
   "source": [
    "# check on missing values per column\n",
    "print(\"Check Nulls - Main Dataframe\")\n",
    "print(\"----------------------------\")\n",
    "print(data.isnull().sum())"
   ]
  },
  {
   "cell_type": "markdown",
   "metadata": {},
   "source": [
    "## Logistic Regression Question C:  Decision to Return a Purchased Product"
   ]
  },
  {
   "cell_type": "markdown",
   "metadata": {},
   "source": [
    "#### We will follow the same steps for the Logistic Regression in Question A.  Though these will be different models, the steps will be the same to ensure consistency in model creation, so any differences are due to the data and not the procedure."
   ]
  },
  {
   "cell_type": "code",
   "execution_count": 4,
   "metadata": {},
   "outputs": [
    {
     "name": "stdout",
     "output_type": "stream",
     "text": [
      "   custid  month   purchase  spend  items  discount_availed  product_return  \\\n",
      "0       1       1         0    0.0    0.0               0.0             0.0   \n",
      "1       1       2         1  347.9    6.0               0.0             1.0   \n",
      "2       1       3         1    6.0    1.0               0.0             0.0   \n",
      "3       1       4         0    0.0    0.0               0.0             0.0   \n",
      "4       1       5         0    0.0    0.0               0.0             0.0   \n",
      "\n",
      "   month_elapsed  catalog_sent  coupon_sent  items_todate  spend_todate  \\\n",
      "0              0             0            0             0           0.0   \n",
      "1              1             1            0             0           0.0   \n",
      "2              0             1            0             6         347.9   \n",
      "3              0             1            0             7         353.9   \n",
      "4              1             1            1             7         353.9   \n",
      "\n",
      "   catalog  store  web  \n",
      "0      0.0    0.0  0.0  \n",
      "1      0.0    1.0  0.0  \n",
      "2      0.0    0.0  1.0  \n",
      "3      0.0    0.0  0.0  \n",
      "4      0.0    0.0  0.0  \n"
     ]
    }
   ],
   "source": [
    "# Dataframe Creation\n",
    "# create binary variables\n",
    "log2_data = data.copy()\n",
    "\n",
    "# create empty columns\n",
    "log2_data['catalog'] = np.nan\n",
    "log2_data['store'] = np.nan\n",
    "log2_data['web'] = np.nan\n",
    "\n",
    "# fill columns with binary outcome\n",
    "for i in range(0, len(log2_data)):\n",
    "    if log2_data['channel_purchase'][i] == 'Catalog':\n",
    "        log2_data['catalog'][i] = 1\n",
    "    else:\n",
    "        log2_data['catalog'][i] = 0\n",
    "    \n",
    "    if log2_data['channel_purchase'][i] == 'Store':\n",
    "        log2_data['store'][i] = 1\n",
    "    else:\n",
    "        log2_data['store'][i] = 0\n",
    "    \n",
    "    if log2_data['channel_purchase'][i] == 'Web':\n",
    "        log2_data['web'][i] = 1\n",
    "    else:\n",
    "        log2_data['web'][i] = 0\n",
    "\n",
    "# drop channel_purchase column\n",
    "log2_data = log2_data.drop(['channel_purchase'], axis = 1)\n",
    "        \n",
    "# fill in NaN on discount_availed, product_return, spend, items with 0\n",
    "columns = ['spend', 'items', 'discount_availed', 'product_return']\n",
    "\n",
    "for cols in columns:\n",
    "    log2_data[cols] = log2_data[cols].fillna(0)\n",
    "\n",
    "print(log2_data.head())"
   ]
  },
  {
   "cell_type": "code",
   "execution_count": 5,
   "metadata": {},
   "outputs": [
    {
     "name": "stdout",
     "output_type": "stream",
     "text": [
      "Counts of 0,1 in product_return variable\n",
      "----------------------------------------\n",
      "0.0    1532\n",
      "1.0      68\n",
      "Name: product_return, dtype: int64\n",
      "\n",
      "Bar Chart of Product_Return Counts\n"
     ]
    },
    {
     "data": {
      "image/png": "[encoded data removed]",
      "text/plain": [
       "<Figure size 432x288 with 1 Axes>"
      ]
     },
     "metadata": {
      "needs_background": "light"
     },
     "output_type": "display_data"
    },
    {
     "name": "stdout",
     "output_type": "stream",
     "text": [
      "\n",
      "Percentages\n",
      "-----------\n",
      "Return:  4.25 %\n",
      "No Return:  95.75 %\n"
     ]
    }
   ],
   "source": [
    "# Data Exploration\n",
    "# counts of 0,1 in purchase\n",
    "depcount = log2_data['product_return'].value_counts()\n",
    "print('Counts of 0,1 in product_return variable')\n",
    "print('----------------------------------------')\n",
    "print(depcount)\n",
    "\n",
    "# bar chart to see distribution of dependent variable\n",
    "print('')\n",
    "print('Bar Chart of Product_Return Counts')\n",
    "sns.countplot(x = 'product_return', data = log2_data, palette = 'hls')\n",
    "plt.show()\n",
    "\n",
    "# find out percentage of each\n",
    "count_no_ret = len(log2_data[log2_data['product_return'] == 0])\n",
    "count_ret = len(log2_data[log2_data['product_return'] == 1])\n",
    "\n",
    "pct_no_ret = count_no_ret/(count_no_ret + count_ret)\n",
    "pct_ret = count_ret/(count_no_ret + count_ret)\n",
    "\n",
    "print('')\n",
    "print('Percentages')\n",
    "print('-----------')\n",
    "print('Return: ', pct_ret*100, '%')\n",
    "print('No Return: ', pct_no_ret*100, '%')"
   ]
  },
  {
   "cell_type": "code",
   "execution_count": 6,
   "metadata": {},
   "outputs": [],
   "source": [
    "# create X and Y variables\n",
    "Xl = pd.DataFrame(np.c_[log2_data['custid'], log2_data['month '], log2_data['spend'], log2_data['items'],\n",
    "                       log2_data['discount_availed'], log2_data['purchase'], log2_data['month_elapsed'],\n",
    "                       log2_data['catalog_sent'], log2_data['coupon_sent'], log2_data['items_todate'],\n",
    "                       log2_data['spend_todate'], log2_data['catalog'], log2_data['store'], log2_data['web']], \n",
    "                       columns = ['custid', 'month ', 'spend', 'items', 'discount_availed', 'purchase', 'month_elapsed',\n",
    "                                  'catalog_sent', 'coupon_sent', 'items_todate', 'spend_todate', 'catalog', 'store', 'web'])\n",
    "Yl = log2_data['product_return']"
   ]
  },
  {
   "cell_type": "code",
   "execution_count": 7,
   "metadata": {},
   "outputs": [
    {
     "name": "stdout",
     "output_type": "stream",
     "text": [
      "Length of Oversampled data is 2146\n",
      "Number of No Return in Oversampled data is 1073\n",
      "Number of Return in Oversampled data is 1073\n",
      "Proportion of No Return data in Oversampled data is 0.5\n",
      "Proportion of Return data in Oversampled data is 0.5\n"
     ]
    }
   ],
   "source": [
    "# setup SMOTE analysis from imblearn library\n",
    "os2 = SMOTE(random_state = 0)\n",
    "\n",
    "# split out training and testing data\n",
    "Xl_train, Xl_test, Yl_train, Yl_test = train_test_split(Xl, Yl, test_size = 0.3, random_state = 0)\n",
    "columns = Xl_train.columns\n",
    "\n",
    "# fit SMOTE analysis\n",
    "os_data_Xl, os_data_Yl = os2.fit_sample(Xl_train, Yl_train)\n",
    "\n",
    "# create dataframes from SMOTE analysis\n",
    "os_data_Xl = pd.DataFrame(data = os_data_Xl, columns = columns)\n",
    "os_data_Yl = pd.DataFrame(data = os_data_Yl, columns = ['product_return'])\n",
    "\n",
    "# check the outcome to determine if the dependent variable became balanced\n",
    "print('Length of Oversampled data is {}'.format(len(os_data_Xl)))\n",
    "print('Number of No Return in Oversampled data is {}'.format(len(os_data_Yl[os_data_Yl['product_return'] == 0])))\n",
    "print('Number of Return in Oversampled data is {}'.format(len(os_data_Yl[os_data_Yl['product_return'] == 1])))\n",
    "print('Proportion of No Return data in Oversampled data is {}'.format(len(os_data_Yl[os_data_Yl['product_return'] == 0])/len(os_data_Xl)))\n",
    "print('Proportion of Return data in Oversampled data is {}'.format(len(os_data_Yl[os_data_Yl['product_return'] == 1])/len(os_data_Xl)))"
   ]
  },
  {
   "cell_type": "code",
   "execution_count": 8,
   "metadata": {},
   "outputs": [
    {
     "name": "stdout",
     "output_type": "stream",
     "text": [
      "[ True  True False  True  True  True  True  True  True  True False  True\n",
      "  True  True]\n",
      "[1 1 2 1 1 1 1 1 1 1 3 1 1 1]\n"
     ]
    }
   ],
   "source": [
    "# RFE data setup\n",
    "log2_data_vars = log2_data.columns.values.tolist()\n",
    "yl_rfe = ['product_return']\n",
    "xl_rfe = [i for i in log2_data_vars if i not in yl_rfe]\n",
    "\n",
    "# set logistic regression model\n",
    "logreg = LogisticRegression()\n",
    "\n",
    "# perform RFE analysis with cross-validation to determine the best/best number of features to select\n",
    "rfecv = RFECV(logreg, step = 1)\n",
    "rfecv = rfecv.fit(os_data_Xl, os_data_Yl.values.ravel())\n",
    "\n",
    "print(rfecv.support_)\n",
    "print(rfecv.ranking_)"
   ]
  },
  {
   "cell_type": "code",
   "execution_count": 9,
   "metadata": {},
   "outputs": [],
   "source": [
    "# setup dataframe based on RFECV analysis\n",
    "cols = ['spend', 'items', 'discount_availed', 'month_elapsed', 'items_todate', 'spend_todate', 'catalog', 'store',\n",
    "        'web']\n",
    "\n",
    "Xl = os_data_Xl[cols]\n",
    "Yl = os_data_Yl['product_return']"
   ]
  },
  {
   "cell_type": "code",
   "execution_count": 10,
   "metadata": {},
   "outputs": [
    {
     "data": {
      "text/plain": [
       "LogisticRegression(C=1.0, class_weight=None, dual=False, fit_intercept=True,\n",
       "                   intercept_scaling=1, l1_ratio=None, max_iter=100,\n",
       "                   multi_class='warn', n_jobs=None, penalty='l2',\n",
       "                   random_state=None, solver='warn', tol=0.0001, verbose=0,\n",
       "                   warm_start=False)"
      ]
     },
     "execution_count": 10,
     "metadata": {},
     "output_type": "execute_result"
    }
   ],
   "source": [
    "# split into testing and training\n",
    "Xl_train, Xl_test, Yl_train, Yl_test = train_test_split(Xl, Yl, test_size = 0.3, random_state = 0)\n",
    "\n",
    "# define logistic regression\n",
    "logreg2 = LogisticRegression()\n",
    "\n",
    "# fit the model\n",
    "logreg2.fit(Xl_train, Yl_train)"
   ]
  },
  {
   "cell_type": "code",
   "execution_count": 11,
   "metadata": {},
   "outputs": [
    {
     "name": "stdout",
     "output_type": "stream",
     "text": [
      "                     Logistic Regression Results\n",
      "---------------------------------------------------------------------------\n",
      "  Independent Variables  Coefficients  Standard Errors           z  \\\n",
      "0             Intercept     -3.606137         0.045845  -78.659379   \n",
      "1                 spend      0.006105         0.000163   37.381884   \n",
      "2                 items      1.611111         0.010470  153.885230   \n",
      "3      discount_availed     -0.099495         0.001624  -61.265037   \n",
      "4         month_elapsed     -0.064527         0.007787   -8.286173   \n",
      "5          items_todate      0.172741         0.009761   17.697061   \n",
      "6          spend_todate     -0.005107         0.000113  -45.112092   \n",
      "7               catalog      3.186736         0.119563   26.653112   \n",
      "8                 store      1.023057         0.074943   13.651179   \n",
      "9                   web      0.802426         0.119628    6.707685   \n",
      "\n",
      "         P > |z|  \n",
      "0   0.000000e+00  \n",
      "1  7.696160e-306  \n",
      "2   0.000000e+00  \n",
      "3   0.000000e+00  \n",
      "4   1.169504e-16  \n",
      "5   4.417695e-70  \n",
      "6   0.000000e+00  \n",
      "7  1.647051e-156  \n",
      "8   1.986381e-42  \n",
      "9   1.977368e-11  \n",
      "---------------------------------------------------------------------------\n",
      "\n",
      "Accuracy of logistic regression on test set: 0.9456521739130435\n"
     ]
    }
   ],
   "source": [
    "# predict the test set results of the logistic regression and calculating the accuracy\n",
    "Yl_pred = logreg2.predict(Xl_test)\n",
    "\n",
    "# print out the coefficients, standard errors, z scores, and p-values\n",
    "# first append the intercept and the independents coefficients\n",
    "paramsl = np.append(logreg2.intercept_,logreg2.coef_[0])\n",
    "\n",
    "# create a placeholder array to determine how many tests need to be done\n",
    "newXl = np.append(np.ones((len(Xl),1)), Xl, axis=1)\n",
    "\n",
    "# calculate variance, standard errors, and t-test values\n",
    "var_c = (np.linalg.inv(np.dot(newXl.T,newXl)).diagonal())\n",
    "sd_c = np.sqrt(var_c)\n",
    "coefsl = logreg2.coef_[0]\n",
    "z_c = paramsl/sd_c\n",
    "p_val_c = [stats.norm.sf(abs(x))*2 for x in z_c]\n",
    "\n",
    "# create dictionary to cast to dataframe\n",
    "log2_results_dict = {'Independent Variables': ['Intercept', 'spend', 'items', 'discount_availed', 'month_elapsed',\n",
    "                                               'items_todate', 'spend_todate', 'catalog', 'store', 'web'],\n",
    "                     'Coefficients': [logreg2.intercept_[0], logreg2.coef_[0][0], logreg2.coef_[0][1],\n",
    "                                      logreg2.coef_[0][2], logreg2.coef_[0][3], logreg2.coef_[0][4],\n",
    "                                      logreg2.coef_[0][5], logreg2.coef_[0][6], logreg2.coef_[0][7],\n",
    "                                      logreg2.coef_[0][8]],\n",
    "                     'Standard Errors': [sd_c[0], sd_c[1], sd_c[2], sd_c[3], sd_c[4], sd_c[5], sd_c[6], sd_c[7],\n",
    "                                         sd_c[8], sd_c[9]],\n",
    "                     'z': [z_c[0], z_c[1], z_c[2], z_c[3], z_c[4], z_c[5], z_c[6], z_c[7], z_c[8], z_c[9]],\n",
    "                     'P > |z|': [p_val_c[0], p_val_c[1], p_val_c[2], p_val_c[3], p_val_c[4], p_val_c[5], p_val_c[6],\n",
    "                                 p_val_c[7], p_val_c[8], p_val_c[9]]}\n",
    "\n",
    "log2_results = pd.DataFrame.from_dict(log2_results_dict)\n",
    "print('                     Logistic Regression Results')\n",
    "print('---------------------------------------------------------------------------')\n",
    "print(log2_results)\n",
    "print('---------------------------------------------------------------------------')\n",
    "print('')\n",
    "print('Accuracy of logistic regression on test set: {}'.format(logreg2.score(Xl_test, Yl_test)))"
   ]
  },
  {
   "cell_type": "code",
   "execution_count": 12,
   "metadata": {},
   "outputs": [
    {
     "name": "stdout",
     "output_type": "stream",
     "text": [
      "Confusion Matrix\n",
      "----------------\n",
      "[[298  26]\n",
      " [  9 311]]\n"
     ]
    }
   ],
   "source": [
    "# build confusion matrix from Y_test and Y_pred\n",
    "cfm2 = confusion_matrix(Yl_test, Yl_pred)\n",
    "print('Confusion Matrix')\n",
    "print('----------------')\n",
    "print(cfm2)"
   ]
  },
  {
   "cell_type": "markdown",
   "metadata": {},
   "source": [
    "#### Confusion Matrix shows that the model probably got 609 correct and missed 35"
   ]
  },
  {
   "cell_type": "code",
   "execution_count": 13,
   "metadata": {},
   "outputs": [
    {
     "name": "stdout",
     "output_type": "stream",
     "text": [
      "                 Classification Report\n",
      "------------------------------------------------------\n",
      "              precision    recall  f1-score   support\n",
      "\n",
      "         0.0       0.97      0.92      0.94       324\n",
      "         1.0       0.92      0.97      0.95       320\n",
      "\n",
      "    accuracy                           0.95       644\n",
      "   macro avg       0.95      0.95      0.95       644\n",
      "weighted avg       0.95      0.95      0.95       644\n",
      "\n",
      "------------------------------------------------------\n"
     ]
    }
   ],
   "source": [
    "# precision, recall, F-measure, and support table\n",
    "print('                 Classification Report')\n",
    "print('------------------------------------------------------')\n",
    "print(classification_report(Yl_test, Yl_pred))\n",
    "print('------------------------------------------------------')"
   ]
  },
  {
   "cell_type": "code",
   "execution_count": 17,
   "metadata": {},
   "outputs": [
    {
     "data": {
      "image/png": "[encoded data removed]",
      "text/plain": [
       "<Figure size 720x360 with 1 Axes>"
      ]
     },
     "metadata": {
      "needs_background": "light"
     },
     "output_type": "display_data"
    }
   ],
   "source": [
    "# ROC Curve\n",
    "logit2_roc_auc = roc_auc_score(Yl_test, logreg2.predict(Xl_test))\n",
    "fpr2, tpr2, thresholds2 = roc_curve(Yl_test, logreg2.predict_proba(Xl_test)[:,1])\n",
    "plt.figure(figsize = (10,5))\n",
    "plt.plot(fpr2, tpr2, label = 'Logistic Regression (area = %0.2f)' %logit2_roc_auc)\n",
    "plt.plot([0,1], [0,1], 'r--')\n",
    "plt.xlim([0.0, 1.0])\n",
    "plt.ylim([0.0, 1.05])\n",
    "plt.xlabel('False Positive Rate')\n",
    "plt.ylabel('True Positive Rate')\n",
    "plt.title('Receiver Operating Characteristic')\n",
    "plt.legend(loc = \"lower right\")\n",
    "plt.show()"
   ]
  },
  {
   "cell_type": "code",
   "execution_count": null,
   "metadata": {},
   "outputs": [],
   "source": []
  }
 ],
 "metadata": {
  "kernelspec": {
   "display_name": "Python 3",
   "language": "python",
   "name": "python3"
  },
  "language_info": {
   "codemirror_mode": {
    "name": "ipython",
    "version": 3
   },
   "file_extension": ".py",
   "mimetype": "text/x-python",
   "name": "python",
   "nbconvert_exporter": "python",
   "pygments_lexer": "ipython3",
   "version": "3.7.3"
  }
 },
 "nbformat": 4,
 "nbformat_minor": 2
}

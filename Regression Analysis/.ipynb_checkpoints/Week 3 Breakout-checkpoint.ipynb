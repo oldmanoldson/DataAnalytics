{
 "cells": [
  {
   "cell_type": "markdown",
   "metadata": {},
   "source": [
    "# Week 3 Breakout"
   ]
  },
  {
   "cell_type": "code",
   "execution_count": 1,
   "metadata": {},
   "outputs": [],
   "source": [
    "## Import Libraries\n",
    "# import standard libraries\n",
    "import numpy as np\n",
    "import matplotlib.pyplot as plt\n",
    "import pandas as pd\n",
    "import statsmodels.api as sm\n",
    "from scipy import stats\n",
    "from scipy.stats import skew\n",
    "\n",
    "%matplotlib inline\n",
    "\n",
    "# import statistical visualization library\n",
    "import seaborn as sns\n",
    "\n",
    "# import supervised learning libraries\n",
    "from sklearn.model_selection import train_test_split\n",
    "from imblearn.over_sampling import SMOTE\n",
    "from sklearn.feature_selection import RFE, RFECV\n",
    "\n",
    "# import regression libraries\n",
    "from sklearn.linear_model import LinearRegression, Lasso, LogisticRegression\n",
    "from sklearn.metrics import mean_squared_error, r2_score, mean_absolute_error, confusion_matrix, classification_report, roc_auc_score, roc_curve\n",
    "\n",
    "# suppress warnings\n",
    "pd.options.mode.chained_assignment = None\n",
    "from warnings import simplefilter\n",
    "simplefilter(action='ignore', category=FutureWarning)"
   ]
  },
  {
   "cell_type": "code",
   "execution_count": 2,
   "metadata": {},
   "outputs": [
    {
     "data": {
      "text/html": [
       "<div>\n",
       "<style scoped>\n",
       "    .dataframe tbody tr th:only-of-type {\n",
       "        vertical-align: middle;\n",
       "    }\n",
       "\n",
       "    .dataframe tbody tr th {\n",
       "        vertical-align: top;\n",
       "    }\n",
       "\n",
       "    .dataframe thead th {\n",
       "        text-align: right;\n",
       "    }\n",
       "</style>\n",
       "<table border=\"1\" class=\"dataframe\">\n",
       "  <thead>\n",
       "    <tr style=\"text-align: right;\">\n",
       "      <th></th>\n",
       "      <th>Validation</th>\n",
       "      <th>CITY</th>\n",
       "      <th>LIST PRICE</th>\n",
       "      <th>SQFT</th>\n",
       "      <th>PRICEPERSQFT</th>\n",
       "      <th>BEDS</th>\n",
       "      <th>BATHS</th>\n",
       "      <th>LOT SIZE</th>\n",
       "      <th>YEAR BUILT</th>\n",
       "      <th>PARKING SPOTS</th>\n",
       "      <th>GARAGE</th>\n",
       "    </tr>\n",
       "  </thead>\n",
       "  <tbody>\n",
       "    <tr>\n",
       "      <th>0</th>\n",
       "      <td>0</td>\n",
       "      <td>Cary</td>\n",
       "      <td>234900</td>\n",
       "      <td>1720</td>\n",
       "      <td>136.5698</td>\n",
       "      <td>3</td>\n",
       "      <td>3</td>\n",
       "      <td>7405</td>\n",
       "      <td>1991</td>\n",
       "      <td>1</td>\n",
       "      <td>1</td>\n",
       "    </tr>\n",
       "    <tr>\n",
       "      <th>1</th>\n",
       "      <td>1</td>\n",
       "      <td>ChapelHill</td>\n",
       "      <td>449900</td>\n",
       "      <td>3460</td>\n",
       "      <td>130.0289</td>\n",
       "      <td>4</td>\n",
       "      <td>4</td>\n",
       "      <td>72309</td>\n",
       "      <td>1960</td>\n",
       "      <td>0</td>\n",
       "      <td>0</td>\n",
       "    </tr>\n",
       "    <tr>\n",
       "      <th>2</th>\n",
       "      <td>1</td>\n",
       "      <td>Cary</td>\n",
       "      <td>529900</td>\n",
       "      <td>3555</td>\n",
       "      <td>149.0577</td>\n",
       "      <td>5</td>\n",
       "      <td>5</td>\n",
       "      <td>8276</td>\n",
       "      <td>2011</td>\n",
       "      <td>2</td>\n",
       "      <td>1</td>\n",
       "    </tr>\n",
       "    <tr>\n",
       "      <th>3</th>\n",
       "      <td>1</td>\n",
       "      <td>Cary</td>\n",
       "      <td>367900</td>\n",
       "      <td>2850</td>\n",
       "      <td>129.0877</td>\n",
       "      <td>4</td>\n",
       "      <td>3</td>\n",
       "      <td>10018</td>\n",
       "      <td>1994</td>\n",
       "      <td>2</td>\n",
       "      <td>1</td>\n",
       "    </tr>\n",
       "    <tr>\n",
       "      <th>4</th>\n",
       "      <td>0</td>\n",
       "      <td>ChapelHill</td>\n",
       "      <td>235000</td>\n",
       "      <td>1700</td>\n",
       "      <td>138.2353</td>\n",
       "      <td>3</td>\n",
       "      <td>2</td>\n",
       "      <td>40510</td>\n",
       "      <td>1977</td>\n",
       "      <td>0</td>\n",
       "      <td>0</td>\n",
       "    </tr>\n",
       "  </tbody>\n",
       "</table>\n",
       "</div>"
      ],
      "text/plain": [
       "   Validation        CITY  LIST PRICE  SQFT  PRICEPERSQFT  BEDS  BATHS  \\\n",
       "0           0        Cary      234900  1720      136.5698     3      3   \n",
       "1           1  ChapelHill      449900  3460      130.0289     4      4   \n",
       "2           1        Cary      529900  3555      149.0577     5      5   \n",
       "3           1        Cary      367900  2850      129.0877     4      3   \n",
       "4           0  ChapelHill      235000  1700      138.2353     3      2   \n",
       "\n",
       "   LOT SIZE  YEAR BUILT  PARKING SPOTS  GARAGE  \n",
       "0      7405        1991              1       1  \n",
       "1     72309        1960              0       0  \n",
       "2      8276        2011              2       1  \n",
       "3     10018        1994              2       1  \n",
       "4     40510        1977              0       0  "
      ]
     },
     "metadata": {},
     "output_type": "display_data"
    }
   ],
   "source": [
    "# Load data into pandas dataframe\n",
    "\n",
    "data = pd.read_excel('/Users/seanolson/OneDrive/Documents/UNC Chapel Hill/Kenan-Flagler Business School/KFBS Courses/MBA706 Data Analytics/Week 3/housing_data.xlsx', sheet_name = 'Sheet1')\n",
    "display(data.head())"
   ]
  },
  {
   "cell_type": "code",
   "execution_count": 4,
   "metadata": {},
   "outputs": [
    {
     "data": {
      "text/html": [
       "<div>\n",
       "<style scoped>\n",
       "    .dataframe tbody tr th:only-of-type {\n",
       "        vertical-align: middle;\n",
       "    }\n",
       "\n",
       "    .dataframe tbody tr th {\n",
       "        vertical-align: top;\n",
       "    }\n",
       "\n",
       "    .dataframe thead th {\n",
       "        text-align: right;\n",
       "    }\n",
       "</style>\n",
       "<table border=\"1\" class=\"dataframe\">\n",
       "  <thead>\n",
       "    <tr style=\"text-align: right;\">\n",
       "      <th></th>\n",
       "      <th>Validation</th>\n",
       "      <th>CITY</th>\n",
       "      <th>LIST PRICE</th>\n",
       "      <th>SQFT</th>\n",
       "      <th>PRICEPERSQFT</th>\n",
       "      <th>BEDS</th>\n",
       "      <th>BATHS</th>\n",
       "      <th>LOT SIZE</th>\n",
       "      <th>YEAR BUILT</th>\n",
       "      <th>PARKING SPOTS</th>\n",
       "      <th>GARAGE</th>\n",
       "      <th>city_bin</th>\n",
       "    </tr>\n",
       "  </thead>\n",
       "  <tbody>\n",
       "    <tr>\n",
       "      <th>0</th>\n",
       "      <td>0</td>\n",
       "      <td>Cary</td>\n",
       "      <td>234900</td>\n",
       "      <td>1720</td>\n",
       "      <td>136.5698</td>\n",
       "      <td>3</td>\n",
       "      <td>3</td>\n",
       "      <td>7405</td>\n",
       "      <td>1991</td>\n",
       "      <td>1</td>\n",
       "      <td>1</td>\n",
       "      <td>1</td>\n",
       "    </tr>\n",
       "    <tr>\n",
       "      <th>1</th>\n",
       "      <td>1</td>\n",
       "      <td>ChapelHill</td>\n",
       "      <td>449900</td>\n",
       "      <td>3460</td>\n",
       "      <td>130.0289</td>\n",
       "      <td>4</td>\n",
       "      <td>4</td>\n",
       "      <td>72309</td>\n",
       "      <td>1960</td>\n",
       "      <td>0</td>\n",
       "      <td>0</td>\n",
       "      <td>0</td>\n",
       "    </tr>\n",
       "    <tr>\n",
       "      <th>2</th>\n",
       "      <td>1</td>\n",
       "      <td>Cary</td>\n",
       "      <td>529900</td>\n",
       "      <td>3555</td>\n",
       "      <td>149.0577</td>\n",
       "      <td>5</td>\n",
       "      <td>5</td>\n",
       "      <td>8276</td>\n",
       "      <td>2011</td>\n",
       "      <td>2</td>\n",
       "      <td>1</td>\n",
       "      <td>1</td>\n",
       "    </tr>\n",
       "    <tr>\n",
       "      <th>3</th>\n",
       "      <td>1</td>\n",
       "      <td>Cary</td>\n",
       "      <td>367900</td>\n",
       "      <td>2850</td>\n",
       "      <td>129.0877</td>\n",
       "      <td>4</td>\n",
       "      <td>3</td>\n",
       "      <td>10018</td>\n",
       "      <td>1994</td>\n",
       "      <td>2</td>\n",
       "      <td>1</td>\n",
       "      <td>1</td>\n",
       "    </tr>\n",
       "    <tr>\n",
       "      <th>4</th>\n",
       "      <td>0</td>\n",
       "      <td>ChapelHill</td>\n",
       "      <td>235000</td>\n",
       "      <td>1700</td>\n",
       "      <td>138.2353</td>\n",
       "      <td>3</td>\n",
       "      <td>2</td>\n",
       "      <td>40510</td>\n",
       "      <td>1977</td>\n",
       "      <td>0</td>\n",
       "      <td>0</td>\n",
       "      <td>0</td>\n",
       "    </tr>\n",
       "  </tbody>\n",
       "</table>\n",
       "</div>"
      ],
      "text/plain": [
       "   Validation        CITY  LIST PRICE  SQFT  PRICEPERSQFT  BEDS  BATHS  \\\n",
       "0           0        Cary      234900  1720      136.5698     3      3   \n",
       "1           1  ChapelHill      449900  3460      130.0289     4      4   \n",
       "2           1        Cary      529900  3555      149.0577     5      5   \n",
       "3           1        Cary      367900  2850      129.0877     4      3   \n",
       "4           0  ChapelHill      235000  1700      138.2353     3      2   \n",
       "\n",
       "   LOT SIZE  YEAR BUILT  PARKING SPOTS  GARAGE  city_bin  \n",
       "0      7405        1991              1       1         1  \n",
       "1     72309        1960              0       0         0  \n",
       "2      8276        2011              2       1         1  \n",
       "3     10018        1994              2       1         1  \n",
       "4     40510        1977              0       0         0  "
      ]
     },
     "metadata": {},
     "output_type": "display_data"
    }
   ],
   "source": [
    "# convert city to binary\n",
    "data['city_bin'] = 0\n",
    "\n",
    "for i in range(0,len(data)):\n",
    "    if data['CITY'][i] == 'Cary':\n",
    "        data['city_bin'][i] = 1\n",
    "\n",
    "display(data.head())"
   ]
  },
  {
   "cell_type": "code",
   "execution_count": 30,
   "metadata": {},
   "outputs": [],
   "source": [
    "log1_data = data.copy()\n",
    "X = pd.DataFrame(np.c_[log1_data['LIST PRICE'], log1_data['SQFT'], log1_data['PRICEPERSQFT'],\n",
    "                       log1_data['BEDS'], log1_data['BATHS'], log1_data['LOT SIZE'],\n",
    "                       log1_data['YEAR BUILT'], log1_data['PARKING SPOTS'], log1_data['GARAGE']], \n",
    "                       columns = ['LIST PRICE', 'SQFT', 'PRICEPERSQFT', 'BEDS', 'BATHS', 'LOT SIZE',\n",
    "                                  'YEAR BUILT', 'PARKING SPOTS', 'GARAGE'])\n",
    "Y = log1_data['city_bin']"
   ]
  },
  {
   "cell_type": "code",
   "execution_count": 31,
   "metadata": {},
   "outputs": [],
   "source": [
    "# train test split\n",
    "X_train, X_test, Y_train, Y_test = train_test_split(X, Y, test_size = 0.3, random_state = 0)\n",
    "columns = X_train.columns"
   ]
  },
  {
   "cell_type": "code",
   "execution_count": 32,
   "metadata": {},
   "outputs": [
    {
     "name": "stdout",
     "output_type": "stream",
     "text": [
      "[False  True  True  True  True  True  True  True  True]\n",
      "[2 1 1 1 1 1 1 1 1]\n"
     ]
    }
   ],
   "source": [
    "# RFE data setup\n",
    "log1_data_vars = log1_data.columns.values.tolist()\n",
    "y_rfe = ['city_bin']\n",
    "x_rfe = [i for i in log1_data_vars if i not in y_rfe]\n",
    "\n",
    "# set logistic regression model\n",
    "logreg = LogisticRegression()\n",
    "#linreg = LinearRegression()\n",
    "\n",
    "# perform RFE analysis with cross-validation to determine the best/best number of features to select\n",
    "rfecv = RFECV(logreg, step = 1)\n",
    "#rfecv = RFECV(linreg, step = 1)\n",
    "rfecv = rfecv.fit(X_train, Y_train.values.ravel())\n",
    "\n",
    "print(rfecv.support_)\n",
    "print(rfecv.ranking_)"
   ]
  },
  {
   "cell_type": "markdown",
   "metadata": {},
   "source": [
    "#### After performing the RFE-CV analysis, the chosen parameters for the model will be *spend*, *items*, *month_elapsed*, *catalog_sent*.  These features appear to provide the best relationship with the target of purchasing decision."
   ]
  },
  {
   "cell_type": "code",
   "execution_count": 9,
   "metadata": {},
   "outputs": [],
   "source": [
    "# setup dataframe based on RFECV analysis\n",
    "cols = ['spend', 'items', 'month_elapsed', 'catalog_sent']\n",
    "\n",
    "X = os_data_X[cols]\n",
    "Y = os_data_Y['purchase']"
   ]
  },
  {
   "cell_type": "markdown",
   "metadata": {},
   "source": [
    "#### Logistic Regression model fitting"
   ]
  },
  {
   "cell_type": "code",
   "execution_count": 10,
   "metadata": {},
   "outputs": [
    {
     "data": {
      "text/plain": [
       "LogisticRegression(C=1.0, class_weight=None, dual=False, fit_intercept=True,\n",
       "                   intercept_scaling=1, l1_ratio=None, max_iter=100,\n",
       "                   multi_class='warn', n_jobs=None, penalty='l2',\n",
       "                   random_state=None, solver='warn', tol=0.0001, verbose=0,\n",
       "                   warm_start=False)"
      ]
     },
     "execution_count": 10,
     "metadata": {},
     "output_type": "execute_result"
    }
   ],
   "source": [
    "# split into testing and training\n",
    "X_train, X_test, Y_train, Y_test = train_test_split(X, Y, test_size = 0.3, random_state = 0)\n",
    "\n",
    "# define logistic regression\n",
    "logreg = LogisticRegression()\n",
    "\n",
    "# fit the model\n",
    "logreg.fit(X_train, Y_train)"
   ]
  },
  {
   "cell_type": "code",
   "execution_count": 11,
   "metadata": {},
   "outputs": [
    {
     "name": "stdout",
     "output_type": "stream",
     "text": [
      "                     Logistic Regression Results\n",
      "---------------------------------------------------------------------------\n",
      "  Independent Variables  Coefficients  Standard Errors            z  \\\n",
      "0             Intercept     -3.421025         0.041846   -81.752309   \n",
      "1                 spend      1.362418         0.000214  6369.208876   \n",
      "2                 items      0.234307         0.019805    11.830533   \n",
      "3         month_elapsed     -1.323174         0.008167  -162.013691   \n",
      "4          catalog_sent     -0.587980         0.052965   -11.101342   \n",
      "\n",
      "        P > |z|  \n",
      "0  0.000000e+00  \n",
      "1  0.000000e+00  \n",
      "2  2.714122e-32  \n",
      "3  0.000000e+00  \n",
      "4  1.235747e-28  \n",
      "---------------------------------------------------------------------------\n",
      "\n",
      "Accuracy of logistic regression on test set: 1.0\n"
     ]
    }
   ],
   "source": [
    "# predict the test set results of the logistic regression and calculating the accuracy\n",
    "Y_pred = logreg.predict(X_test)\n",
    "\n",
    "# print out the coefficients, standard errors, z scores, and p-values\n",
    "# first append the intercept and the independents coefficients\n",
    "params = np.append(logreg.intercept_,logreg.coef_[0])\n",
    "\n",
    "# create a placeholder array to determine how many tests need to be done\n",
    "newX = np.append(np.ones((len(X),1)), X, axis=1)\n",
    "\n",
    "# calculate variance, standard errors, and t-test values\n",
    "var_a = (np.linalg.inv(np.dot(newX.T,newX)).diagonal())\n",
    "sd_a = np.sqrt(var_a)\n",
    "coefs = logreg.coef_[0]\n",
    "z_a = params/sd_a\n",
    "p_val_a = [stats.norm.sf(abs(x))*2 for x in z_a]\n",
    "\n",
    "# create dictionary to cast to dataframe\n",
    "log_results_dict = {'Independent Variables': ['Intercept', 'spend', 'items', 'month_elapsed', 'catalog_sent'],\n",
    "                   'Coefficients': [logreg.intercept_[0], logreg.coef_[0][0], logreg.coef_[0][1], logreg.coef_[0][2], \n",
    "                                    logreg.coef_[0][3]], 'Standard Errors': [sd_a[0], sd_a[1], sd_a[2], sd_a[3], sd_a[4]],\n",
    "                   'z': [z_a[0], z_a[1], z_a[2], z_a[3], z_a[4]], 'P > |z|': [p_val_a[0], p_val_a[1], p_val_a[2], p_val_a[3],\n",
    "                                                                             p_val_a[4]]}\n",
    "\n",
    "log_results = pd.DataFrame.from_dict(log_results_dict)\n",
    "print('                     Logistic Regression Results')\n",
    "print('---------------------------------------------------------------------------')\n",
    "print(log_results)\n",
    "print('---------------------------------------------------------------------------')\n",
    "print('')\n",
    "print('Accuracy of logistic regression on test set: {}'.format(logreg.score(X_test, Y_test)))"
   ]
  },
  {
   "cell_type": "markdown",
   "metadata": {},
   "source": [
    "#### After the results of the Logistic Regression are gathered, next a confusion matrix is created.  A confusion matrix is often used to describe the performance of a classification model."
   ]
  },
  {
   "cell_type": "code",
   "execution_count": 12,
   "metadata": {},
   "outputs": [
    {
     "name": "stdout",
     "output_type": "stream",
     "text": [
      "Confusion Matrix\n",
      "----------------\n",
      "[[289   0]\n",
      " [  0 253]]\n"
     ]
    }
   ],
   "source": [
    "# build confusion matrix from Y_test and Y_pred\n",
    "cfm1 = confusion_matrix(Y_test, Y_pred)\n",
    "print('Confusion Matrix')\n",
    "print('----------------')\n",
    "print(cfm1)"
   ]
  },
  {
   "cell_type": "markdown",
   "metadata": {},
   "source": [
    "#### According to this confusion matrix, the model had 289+253 = 542 correct predictions, and 0+0 = 0 incorrect predictions.\n",
    "#### The next step is to compute precision, recall, F-measure, and support and build a Receiver Operating Characteristic (ROC) Curve.\n",
    "- Precision is the ratio of true positives to the sum of true and false positives. The precision is the ability of the classifier to not label a negative sample as positive.\n",
    "- Recall is the ratio of true positives to the sum of true positives and false negatives.  The recall is the ability of the classifier to find all the positive samples.\n",
    "- The F-beta score is the weighted mean of the precision and recall, where an F-beta score reaches its best value at 1 and worst score at 0. The F-beta score weights the recall more than the precision by a facter of beta. beta = 1.0 means recall and precision are equally important.\n",
    "- Support is the number of occurrences of each class in Y_test."
   ]
  },
  {
   "cell_type": "code",
   "execution_count": 13,
   "metadata": {},
   "outputs": [
    {
     "name": "stdout",
     "output_type": "stream",
     "text": [
      "                 Classification Report\n",
      "------------------------------------------------------\n",
      "              precision    recall  f1-score   support\n",
      "\n",
      "           0       1.00      1.00      1.00       289\n",
      "           1       1.00      1.00      1.00       253\n",
      "\n",
      "    accuracy                           1.00       542\n",
      "   macro avg       1.00      1.00      1.00       542\n",
      "weighted avg       1.00      1.00      1.00       542\n",
      "\n",
      "------------------------------------------------------\n"
     ]
    }
   ],
   "source": [
    "# precision, recall, F-measure, and support table\n",
    "print('                 Classification Report')\n",
    "print('------------------------------------------------------')\n",
    "print(classification_report(Y_test, Y_pred))\n",
    "print('------------------------------------------------------')"
   ]
  },
  {
   "cell_type": "code",
   "execution_count": 14,
   "metadata": {},
   "outputs": [
    {
     "data": {
      "image/png": "[encoded data removed]",
      "text/plain": [
       "<Figure size 432x288 with 1 Axes>"
      ]
     },
     "metadata": {
      "needs_background": "light"
     },
     "output_type": "display_data"
    }
   ],
   "source": [
    "# ROC Curve\n",
    "logit_roc_auc = roc_auc_score(Y_test, logreg.predict(X_test))\n",
    "fpr, tpr, thresholds = roc_curve(Y_test, logreg.predict_proba(X_test)[:,1])\n",
    "plt.figure()\n",
    "plt.plot(fpr, tpr, label = 'Logistic Regression (area = %0.2f)' %logit_roc_auc)\n",
    "plt.plot([0,1], [0,1], 'r--')\n",
    "plt.xlim([0.0, 1.0])\n",
    "plt.ylim([0.0, 1.05])\n",
    "plt.xlabel('False Positive Rate')\n",
    "plt.ylabel('True Positive Rate')\n",
    "plt.title('Receiver Operating Characteristic')\n",
    "plt.legend(loc = \"lower right\")\n",
    "plt.show()"
   ]
  },
  {
   "cell_type": "markdown",
   "metadata": {},
   "source": [
    "#### The ROC Curve is a common tool used with binary classifiers such as logistic regression.  The dotted line represents the ROC curve of a purely random classifier; a good classifier remains as far from the dotted line as possible.  Given that the blue curve is the farthest it can be from the dotted line at every point, this model is extremely accurate."
   ]
  },
  {
   "cell_type": "code",
   "execution_count": null,
   "metadata": {},
   "outputs": [],
   "source": []
  }
 ],
 "metadata": {
  "kernelspec": {
   "display_name": "Python 3",
   "language": "python",
   "name": "python3"
  },
  "language_info": {
   "codemirror_mode": {
    "name": "ipython",
    "version": 3
   },
   "file_extension": ".py",
   "mimetype": "text/x-python",
   "name": "python",
   "nbconvert_exporter": "python",
   "pygments_lexer": "ipython3",
   "version": "3.7.3"
  }
 },
 "nbformat": 4,
 "nbformat_minor": 2
}
